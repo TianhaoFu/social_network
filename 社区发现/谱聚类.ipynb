{
 "cells": [
  {
   "cell_type": "code",
   "execution_count": 2,
   "metadata": {},
   "outputs": [],
   "source": [
    "import numpy as np\n",
    "import pandas as pd\n",
    "import scipy as sp\n",
    "import scipy.linalg as linalg\n",
    "import networkx as nx\n",
    "import matplotlib.pyplot as plt"
   ]
  },
  {
   "cell_type": "code",
   "execution_count": 3,
   "metadata": {},
   "outputs": [],
   "source": [
    "def getNormLaplacian(W):\n",
    "    \"\"\"input matrix W=(w_ij)\n",
    "    \"compute D=diag(d1,...dn)\n",
    "    \"and L=D-W\n",
    "    \"and Lbar=D^(-1/2)LD^(-1/2)\n",
    "    \"return Lbar\n",
    "    \"\"\"\n",
    "    d=[np.sum(row) for row in W]\n",
    "    D=np.diag(d)\n",
    "    L=D-W\n",
    "    #Dn=D^(-1/2)\n",
    "    Dn=np.power(np.linalg.matrix_power(D,-1),0.5)\n",
    "    Lbar=np.dot(np.dot(Dn,L),Dn)\n",
    "    \n",
    "    return Lbar"
   ]
  },
  {
   "cell_type": "code",
   "execution_count": 4,
   "metadata": {},
   "outputs": [],
   "source": [
    "def getKSmallestEigVec(Lbar,k):\n",
    "    \"\"\"input\n",
    "    \"matrix Lbar and k\n",
    "    \"return\n",
    "    \"k smallest eigen values and their corresponding eigen vectors\n",
    "    \"\"\"\n",
    "    eigval,eigvec=linalg.eig(Lbar)\n",
    "    dim=len(eigval)\n",
    " \n",
    "    #查找前k小的eigval\n",
    "    dictEigval=dict(zip(eigval,range(0,dim)))\n",
    "    kEig=np.sort(eigval)[0:k]\n",
    "    ix=[dictEigval[k] for k in kEig]\n",
    "    return eigval[ix],eigvec[:,ix]"
   ]
  },
  {
   "cell_type": "code",
   "execution_count": 5,
   "metadata": {},
   "outputs": [],
   "source": [
    "def checkResult(Lbar,eigvec,eigval,k):\n",
    "    \"\"\"\n",
    "    \"input\n",
    "    \"matrix Lbar and k eig values and k eig vectors\n",
    "    \"print norm(Lbar*eigvec[:,i]-lamda[i]*eigvec[:,i])\n",
    "    \"\"\"\n",
    "    check=[np.dot(Lbar,eigvec[:,i])-eigval[i]*eigvec[:,i] for i in range(0,k)]\n",
    "    length=[np.linalg.norm(e) for e in check]/np.spacing(1)\n",
    "    print(\"Lbar*v-lamda*v are %s*%s\" % (length,np.spacing(1)))"
   ]
  },
  {
   "cell_type": "code",
   "execution_count": 6,
   "metadata": {},
   "outputs": [],
   "source": [
    "def readNetwork(filename):\n",
    "\n",
    "    edges = pd.read_table(filename, header=None,delim_whitespace=True)\n",
    "    #read_edgelists\n",
    "\n",
    "    for i in range(len(edges)):\n",
    "        g.add_edge(edges.iloc[i,0],edges.iloc[i,1])"
   ]
  },
  {
   "cell_type": "code",
   "execution_count": 7,
   "metadata": {},
   "outputs": [],
   "source": [
    "g = nx.DiGraph()\n",
    "readNetwork(r\"D:\\大三上\\社交媒体\\facebook\\0_edges.csv\")"
   ]
  },
  {
   "cell_type": "code",
   "execution_count": 8,
   "metadata": {},
   "outputs": [
    {
     "data": {
      "text/plain": [
       "<networkx.classes.digraph.DiGraph at 0x1b8cd3a0dd8>"
      ]
     },
     "execution_count": 8,
     "metadata": {},
     "output_type": "execute_result"
    }
   ],
   "source": [
    "g"
   ]
  },
  {
   "cell_type": "code",
   "execution_count": 9,
   "metadata": {},
   "outputs": [],
   "source": [
    "nodeNum=len(g.nodes())\n",
    "m=nx.to_numpy_matrix(g,g.nodes)"
   ]
  },
  {
   "cell_type": "code",
   "execution_count": 10,
   "metadata": {},
   "outputs": [
    {
     "data": {
      "text/plain": [
       "NodeView((1, 2, 3, 4, 5, 6, 7, 8, 9, 10, 13, 14, 16, 17, 19, 20, 21, 22, 23, 24, 25, 26, 27, 28, 29, 30, 31, 32, 33, 34, 35, 36, 38, 39, 40, 41, 42, 44, 45, 46, 47, 48, 49, 50, 51, 52, 53, 54, 55, 56, 57, 58, 59, 60, 61, 62, 63, 64, 65, 66, 67, 68, 69, 70, 71, 72, 73, 75, 76, 77, 78, 79, 80, 81, 82, 83, 84, 85, 86, 87, 88, 89, 90, 91, 92, 93, 94, 95, 96, 97, 98, 99, 100, 101, 102, 103, 104, 105, 106, 107, 108, 109, 110, 111, 112, 113, 115, 116, 117, 118, 119, 120, 121, 122, 123, 124, 125, 126, 127, 128, 129, 130, 131, 132, 133, 134, 135, 136, 137, 138, 139, 140, 141, 142, 143, 144, 145, 146, 147, 148, 149, 150, 151, 152, 153, 154, 155, 156, 157, 158, 159, 160, 161, 162, 163, 164, 165, 166, 167, 168, 169, 170, 171, 172, 173, 174, 175, 176, 177, 178, 179, 180, 181, 182, 183, 184, 185, 186, 187, 188, 189, 190, 191, 192, 193, 194, 195, 196, 197, 198, 199, 200, 201, 202, 203, 204, 205, 206, 207, 208, 211, 212, 213, 214, 216, 217, 218, 219, 220, 221, 222, 223, 224, 225, 226, 227, 228, 229, 230, 231, 232, 233, 234, 235, 236, 237, 238, 239, 240, 241, 242, 243, 244, 245, 246, 247, 248, 249, 250, 251, 252, 253, 254, 255, 256, 257, 258, 259, 260, 261, 262, 263, 264, 265, 266, 267, 268, 269, 270, 271, 272, 273, 274, 275, 276, 277, 278, 279, 280, 281, 282, 283, 284, 285, 286, 288, 289, 290, 291, 293, 294, 295, 296, 297, 298, 299, 300, 301, 302, 303, 304, 305, 306, 307, 308, 309, 310, 311, 312, 313, 314, 315, 316, 317, 318, 319, 320, 321, 322, 323, 324, 325, 326, 327, 328, 329, 330, 331, 332, 333, 334, 336, 337, 338, 339, 340, 341, 342, 343, 344, 345, 346, 347))"
      ]
     },
     "execution_count": 10,
     "metadata": {},
     "output_type": "execute_result"
    }
   ],
   "source": [
    "g.nodes"
   ]
  },
  {
   "cell_type": "code",
   "execution_count": 11,
   "metadata": {},
   "outputs": [
    {
     "data": {
      "text/plain": [
       "(333, 333)"
      ]
     },
     "execution_count": 11,
     "metadata": {},
     "output_type": "execute_result"
    }
   ],
   "source": [
    "m.shape"
   ]
  },
  {
   "cell_type": "code",
   "execution_count": 12,
   "metadata": {},
   "outputs": [],
   "source": [
    "Lbar=getNormLaplacian(m)"
   ]
  },
  {
   "cell_type": "code",
   "execution_count": 13,
   "metadata": {},
   "outputs": [
    {
     "name": "stdout",
     "output_type": "stream",
     "text": [
      "[[ 1.          0.          0.         ...,  0.         -0.04902903  0.        ]\n",
      " [ 0.          1.          0.         ...,  0.          0.          0.        ]\n",
      " [ 0.          0.          1.         ...,  0.          0.          0.        ]\n",
      " ..., \n",
      " [ 0.          0.          0.         ...,  1.          0.          0.        ]\n",
      " [-0.04902903  0.          0.         ...,  0.          1.          0.        ]\n",
      " [ 0.          0.          0.         ...,  0.          0.          1.        ]]\n"
     ]
    }
   ],
   "source": [
    "print(Lbar)"
   ]
  },
  {
   "cell_type": "code",
   "execution_count": 14,
   "metadata": {},
   "outputs": [
    {
     "name": "stdout",
     "output_type": "stream",
     "text": [
      "k eig val are [ -2.46154935e-15+0.j  -9.93807224e-16+0.j]\n",
      "k eig vec are [[ -9.22726596e-17  -1.29228907e-03]\n",
      " [ -1.77516519e-16  -9.69216805e-04]\n",
      " [ -1.84526300e-16  -1.29228907e-03]\n",
      " [ -3.59979767e-16  -9.69216805e-04]\n",
      " [ -2.18045547e-16  -1.11915517e-03]\n",
      " [  6.20275229e-17  -7.22411554e-04]\n",
      " [  1.86537476e-16  -1.40823937e-03]\n",
      " [  4.77462245e-17  -8.54768878e-04]\n",
      " [  2.23515014e-16  -2.41765148e-03]\n",
      " [ -1.49706991e-16  -9.69216805e-04]\n",
      " [ -8.49480417e-17  -1.76953969e-03]\n",
      " [ -1.57576028e-17  -1.20882574e-03]\n",
      " [ -2.15658657e-16  -9.13786367e-04]\n",
      " [ -1.60966085e-16  -1.11915517e-03]\n",
      " [ -9.31087127e-17  -1.25125352e-03]\n",
      " [  7.27554104e-17  -1.20882574e-03]\n",
      " [ -7.14095797e-17  -2.58457815e-03]\n",
      " [  1.04167008e-16  -1.02164422e-03]\n",
      " [ -3.05117317e-17  -1.29228907e-03]\n",
      " [ -1.00380791e-17  -1.25125352e-03]\n",
      " [  9.19533310e-17  -2.66412217e-03]\n",
      " [  2.60645546e-16  -2.64446049e-03]\n",
      " [ -3.14058027e-16  -6.46144537e-04]\n",
      " [ -1.00014967e-16  -1.11915517e-03]\n",
      " [  3.06626047e-16  -1.11915517e-03]\n",
      " [  1.00031658e-16  -1.29228907e-03]\n",
      " [ -1.82011783e-16  -1.51534326e-03]\n",
      " [  2.83923241e-16  -7.22411554e-04]\n",
      " [  3.01522083e-17  -7.05452073e-01]\n",
      " [ -3.14105568e-16  -3.23072268e-04]\n",
      " [  4.95083948e-18  -3.23072268e-04]\n",
      " [  1.69526162e-16  -1.02164422e-03]\n",
      " [ -3.96878449e-16  -9.13786367e-04]\n",
      " [  7.77110322e-18  -1.20882574e-03]\n",
      " [  1.35501959e-16  -2.11852654e-03]\n",
      " [  1.80375677e-16  -1.54940017e-03]\n",
      " [  5.78657222e-17  -7.05452073e-01]\n",
      " [  6.68292231e-17  -7.22411554e-04]\n",
      " [  8.04821811e-17  -1.07150949e-03]\n",
      " [  9.74642214e-17  -6.46144537e-04]\n",
      " [ -7.56136774e-19  -3.23072268e-04]\n",
      " [ -1.69669534e-16  -1.48050312e-03]\n",
      " [ -1.28848739e-18  -5.59577583e-04]\n",
      " [  2.04571247e-16  -1.02164422e-03]\n",
      " [ -4.12714766e-17  -7.91362208e-04]\n",
      " [ -4.82230666e-17  -3.23072268e-04]\n",
      " [ -8.22127205e-18  -1.76953969e-03]\n",
      " [  8.81567583e-17  -8.54768878e-04]\n",
      " [ -4.34659943e-16  -1.29228907e-03]\n",
      " [ -1.75377568e-16  -2.83494765e-03]\n",
      " [  2.75362802e-16  -1.20882574e-03]\n",
      " [  1.04965729e-16  -5.59577583e-04]\n",
      " [  2.03931439e-16  -1.37067955e-03]\n",
      " [ -2.25852197e-16  -8.54768878e-04]\n",
      " [ -8.58111481e-17  -4.56893184e-04]\n",
      " [ -2.40008795e-17  -1.61536134e-03]\n",
      " [  2.02373798e-16  -7.22411554e-04]\n",
      " [ -6.26590566e-17  -7.91362208e-04]\n",
      " [  5.93190318e-17  -1.07150949e-03]\n",
      " [ -1.79709508e-17  -1.20882574e-03]\n",
      " [  2.04528616e-16  -2.79788792e-03]\n",
      " [ -2.73026314e-16  -9.13786367e-04]\n",
      " [ -3.87074150e-16  -9.69216805e-04]\n",
      " [  9.44393096e-17  -3.23072268e-04]\n",
      " [ -9.85699060e-18  -4.56893184e-04]\n",
      " [ -6.83203094e-18  -1.54940017e-03]\n",
      " [ -1.28509731e-16  -9.69216805e-04]\n",
      " [ -3.63796964e-16  -1.16485363e-03]\n",
      " [  5.07389088e-17  -4.56893184e-04]\n",
      " [  1.32627775e-16  -7.22411554e-04]\n",
      " [  2.80579027e-17  -9.13786367e-04]\n",
      " [ -4.15532794e-17  -1.07150949e-03]\n",
      " [ -2.86065622e-17  -1.51534326e-03]\n",
      " [ -4.41356107e-17  -4.56893184e-04]\n",
      " [ -2.79113508e-16  -1.85590889e-03]\n",
      " [ -4.50100479e-17  -7.91362208e-04]\n",
      " [  1.32947967e-16  -1.11915517e-03]\n",
      " [  3.10017142e-17  -1.16485363e-03]\n",
      " [ -1.76988368e-16  -7.22411554e-04]\n",
      " [ -1.25196896e-16  -1.11915517e-03]\n",
      " [  3.34819823e-16  -1.40823937e-03]\n",
      " [ -4.27514465e-17  -8.54768878e-04]\n",
      " [  1.35171396e-16  -3.22100283e-02]\n",
      " [ -1.66593325e-17  -8.54768878e-04]\n",
      " [ -2.52655925e-17  -1.44482311e-03]\n",
      " [ -2.33084791e-16  -8.54768878e-04]\n",
      " [  6.86841404e-18  -1.48050312e-03]\n",
      " [  9.32002704e-17  -7.22411554e-04]\n",
      " [  1.80746411e-16  -9.13786367e-04]\n",
      " [  3.92563409e-17  -4.56893184e-04]\n",
      " [ -8.66131807e-17  -2.23831033e-03]\n",
      " [  2.08221857e-16  -1.11915517e-03]\n",
      " [ -9.31432774e-17  -9.13786367e-04]\n",
      " [  1.10878254e-17  -1.37067955e-03]\n",
      " [ -3.07929418e-16  -7.22411554e-04]\n",
      " [  1.54779773e-16  -1.25125352e-03]\n",
      " [  3.39124148e-17  -1.79879026e-03]\n",
      " [ -2.50038358e-17  -1.16485363e-03]\n",
      " [  2.41939614e-16  -8.54768878e-04]\n",
      " [ -2.19269137e-16  -4.56893184e-04]\n",
      " [ -1.49932753e-16  -1.11915517e-03]\n",
      " [  3.27736768e-17  -1.93843361e-03]\n",
      " [ -6.02238874e-17  -6.46144537e-04]\n",
      " [  1.88747657e-16  -1.16485363e-03]\n",
      " [  7.40385575e-18  -4.56893184e-04]\n",
      " [ -2.20840042e-16  -2.01758567e-03]\n",
      " [ -3.36769947e-17  -1.44482311e-03]\n",
      " [ -5.88056682e-17  -1.29228907e-03]\n",
      " [ -1.12630375e-16  -7.22411554e-04]\n",
      " [ -2.02234922e-16  -1.91132132e-03]\n",
      " [ -3.74883717e-17  -2.52327508e-03]\n",
      " [ -2.06276378e-16  -5.59577583e-04]\n",
      " [  2.28403643e-16  -1.07150949e-03]\n",
      " [  2.12925424e-16  -2.54387359e-03]\n",
      " [ -3.78400243e-16  -1.33206109e-03]\n",
      " [  4.00426416e-18  -5.59577583e-04]\n",
      " [  5.01977652e-16  -5.59577583e-04]\n",
      " [ -5.26090694e-17  -7.91362208e-04]\n",
      " [ -5.92385068e-17  -1.25125352e-03]\n",
      " [  5.61148450e-18  -1.67873275e-03]\n",
      " [  7.41598968e-17  -7.91362208e-04]\n",
      " [  4.50658263e-16  -1.25125352e-03]\n",
      " [  4.25390742e-17  -7.91362208e-04]\n",
      " [ -1.95757245e-16  -1.25125352e-03]\n",
      " [ -6.37370014e-16  -1.33206109e-03]\n",
      " [ -1.24373997e-16  -1.37067955e-03]\n",
      " [  1.99752556e-16  -9.69216805e-04]\n",
      " [  3.27201118e-16  -1.48050312e-03]\n",
      " [ -4.15428656e-17  -1.25125352e-03]\n",
      " [ -1.79643971e-16  -3.23072268e-04]\n",
      " [ -3.82005195e-16  -9.13786367e-04]\n",
      " [ -5.34744964e-17  -1.02164422e-03]\n",
      " [  2.98902080e-17  -1.67873275e-03]\n",
      " [  1.89508011e-16  -2.09374760e-03]\n",
      " [  1.16775031e-16  -1.07150949e-03]\n",
      " [  1.17084923e-17  -1.20882574e-03]\n",
      " [  2.79176560e-17  -3.22100283e-02]\n",
      " [ -6.62636640e-16  -9.69216805e-04]\n",
      " [  6.20218876e-17  -7.22411554e-04]\n",
      " [ -8.12945553e-17  -1.40823937e-03]\n",
      " [  4.87850997e-17  -1.16485363e-03]\n",
      " [ -8.66511951e-17  -1.02164422e-03]\n",
      " [  1.63579119e-16  -7.91362208e-04]\n",
      " [ -3.50994449e-17  -6.46144537e-04]\n",
      " [  7.57435240e-17  -3.23072268e-04]\n",
      " [  2.59051292e-17  -3.23072268e-04]\n",
      " [ -1.09708542e-17  -4.56893184e-04]\n",
      " [ -9.85264502e-17  -1.07150949e-03]\n",
      " [ -3.51417111e-18  -4.56893184e-04]\n",
      " [ -3.03516842e-16  -1.58272442e-03]\n",
      " [ -2.02341509e-16  -1.16485363e-03]\n",
      " [  2.37718933e-16  -3.23072268e-04]\n",
      " [  1.64850628e-16  -1.58272442e-03]\n",
      " [ -8.84920087e-17  -8.54768878e-04]\n",
      " [  5.48429591e-16  -7.22411554e-04]\n",
      " [ -3.07401804e-16  -4.56893184e-04]\n",
      " [ -1.12458757e-16  -1.02164422e-03]\n",
      " [  1.71478763e-18  -5.59577583e-04]\n",
      " [ -5.74078527e-17  -7.91362208e-04]\n",
      " [  9.76770710e-17  -1.02164422e-03]\n",
      " [  2.40002122e-16  -1.96517189e-03]\n",
      " [ -1.07127720e-16  -2.16723466e-03]\n",
      " [ -3.48865717e-17  -8.54768878e-04]\n",
      " [ -7.68164344e-18  -2.04328843e-03]\n",
      " [  3.97953635e-17  -7.22411554e-04]\n",
      " [  6.38931153e-17  -5.59577583e-04]\n",
      " [ -9.00286654e-17  -1.29228907e-03]\n",
      " [ -1.48164432e-16  -1.16485363e-03]\n",
      " [ -8.33371651e-17  -1.02164422e-03]\n",
      " [ -2.35761755e-17  -1.11915517e-03]\n",
      " [  1.14438719e-16  -4.55518588e-02]\n",
      " [ -8.99840560e-17  -1.40823937e-03]\n",
      " [ -3.00000853e-16  -9.69216805e-04]\n",
      " [  1.17507376e-16  -4.56893184e-04]\n",
      " [  1.63053173e-17  -3.23072268e-04]\n",
      " [ -3.72531156e-17  -1.33206109e-03]\n",
      " [  4.32999308e-17  -1.61536134e-03]\n",
      " [ -2.08315660e-16  -2.11852654e-03]\n",
      " [ -1.59534743e-16  -1.25125352e-03]\n",
      " [  1.36795736e-16  -2.21487188e-03]\n",
      " [  4.24853161e-17  -7.91362208e-04]\n",
      " [  8.36201376e-17  -5.59577583e-04]\n",
      " [ -2.79272650e-16  -4.56893184e-04]\n",
      " [ -1.91729166e-17  -6.46144537e-04]\n",
      " [ -4.69507815e-18  -6.46144537e-04]\n",
      " [ -5.51368988e-17  -1.37067955e-03]\n",
      " [  9.78450403e-17  -9.13786367e-04]\n",
      " [ -1.71689115e-16  -1.11915517e-03]\n",
      " [ -4.83284800e-17  -1.25125352e-03]\n",
      " [  2.13680790e-17  -3.23072268e-04]\n",
      " [ -4.13512832e-17  -2.19118273e-03]\n",
      " [  1.42122006e-16  -2.41765148e-03]\n",
      " [ -8.42700614e-17  -5.59577583e-04]\n",
      " [ -5.86800908e-17  -5.59577583e-04]\n",
      " [ -5.09953851e-17  -2.41765148e-03]\n",
      " [  1.33863998e-16  -1.48050312e-03]\n",
      " [  4.16010995e-17  -3.23072268e-04]\n",
      " [ -3.01251322e-16  -5.59577583e-04]\n",
      " [  6.94524887e-17  -4.56893184e-04]\n",
      " [ -2.09811632e-16  -7.91362208e-04]\n",
      " [ -9.41783630e-17  -1.73979741e-03]\n",
      " [ -8.90407774e-17  -1.33206109e-03]\n",
      " [  1.41777365e-16  -1.99155122e-03]\n",
      " [  7.27398178e-17  -1.29228907e-03]\n",
      " [ -5.47395513e-17  -3.23072268e-04]\n",
      " [ -1.40685158e-16  -8.54768878e-04]\n",
      " [  2.16540140e-16  -9.13786367e-04]\n",
      " [ -3.25815367e-17  -7.22411554e-04]\n",
      " [ -1.04626317e-15  -5.59577583e-04]\n",
      " [ -1.84095604e-16  -8.54768878e-04]\n",
      " [ -8.22241953e-17  -1.02164422e-03]\n",
      " [ -2.20079477e-16  -1.64735180e-03]\n",
      " [  1.29078666e-16  -1.67873275e-03]\n",
      " [ -3.81416756e-17  -9.69216805e-04]\n",
      " [ -7.81355807e-17  -1.16485363e-03]\n",
      " [  1.46868112e-16  -1.20882574e-03]\n",
      " [  1.12515442e-16  -4.56893184e-04]\n",
      " [ -1.53459824e-16  -7.22411554e-04]\n",
      " [ -1.45032834e-16  -9.13786367e-04]\n",
      " [ -4.41805962e-17  -1.44482311e-03]\n",
      " [ -6.06255693e-17  -1.58272442e-03]\n",
      " [ -1.64879022e-02  -2.14998522e-38]\n",
      " [ -1.26586471e-16  -3.23072268e-04]\n",
      " [  3.09651728e-16  -6.46144537e-04]\n",
      " [  1.15092194e-16  -1.93843361e-03]\n",
      " [ -5.38537070e-17  -7.91362208e-04]\n",
      " [  1.08303549e-16  -1.51534326e-03]\n",
      " [  1.51025918e-16  -2.46044509e-03]\n",
      " [ -3.71397505e-17  -4.56893184e-04]\n",
      " [ -1.71276435e-17  -3.23072268e-04]\n",
      " [  5.02610567e-17  -1.54940017e-03]\n",
      " [  1.78800370e-18  -8.54768878e-04]\n",
      " [ -7.06914527e-01  -5.18166077e-38]\n",
      " [  2.61095590e-17  -6.46144537e-04]\n",
      " [ -2.19331976e-16  -1.16485363e-03]\n",
      " [ -9.94522018e-17  -4.56893184e-04]\n",
      " [ -2.52618793e-16  -1.44482311e-03]\n",
      " [ -5.62432110e-17  -1.54940017e-03]\n",
      " [ -3.11126524e-17  -6.46144537e-04]\n",
      " [  1.67907658e-16  -1.16485363e-03]\n",
      " [  3.16242188e-16  -2.58457815e-03]\n",
      " [ -8.64554016e-17  -4.56893184e-04]\n",
      " [  3.16938608e-17  -1.29228907e-03]\n",
      " [  4.96367707e-17  -3.23072268e-04]\n",
      " [ -1.64879022e-02  -2.14998522e-38]\n",
      " [ -7.37511156e-17  -1.33206109e-03]\n",
      " [  1.18590661e-16  -1.20882574e-03]\n",
      " [  3.75999995e-17  -8.54768878e-04]\n",
      " [  4.73503599e-17  -8.54768878e-04]\n",
      " [ -8.32957571e-17  -1.96517189e-03]\n",
      " [  1.06377798e-15  -5.59577583e-04]\n",
      " [  1.78971552e-16  -7.91362208e-04]\n",
      " [  2.44134464e-17  -6.46144537e-04]\n",
      " [ -2.92321268e-17  -1.64735180e-03]\n",
      " [  9.47503256e-17  -1.33206109e-03]\n",
      " [  2.30956848e-16  -3.23072268e-04]\n",
      " [  9.62909013e-17  -1.02164422e-03]\n",
      " [  2.51521400e-16  -7.22411554e-04]\n",
      " [ -2.89566463e-17  -5.59577583e-04]\n",
      " [  1.97722685e-16  -2.74135910e-03]\n",
      " [ -2.28426755e-16  -2.14301899e-03]\n",
      " [  1.31304189e-16  -9.13786367e-04]\n",
      " [ -8.57702191e-17  -1.16485363e-03]\n",
      " [ -2.60446653e-16  -9.69216805e-04]\n",
      " [  1.38436361e-16  -1.33206109e-03]\n",
      " [ -2.41333621e-16  -2.58457815e-03]\n",
      " [ -2.34669630e-16  -9.69216805e-04]\n",
      " [ -1.36580997e-16  -3.23072268e-04]\n",
      " [ -2.85689056e-17  -2.09374760e-03]\n",
      " [  6.69467367e-19  -1.25125352e-03]\n",
      " [ -7.06914527e-01  -5.18166077e-38]\n",
      " [  1.77617204e-17  -6.46144537e-04]\n",
      " [ -9.67731561e-17  -1.25125352e-03]\n",
      " [  1.13591590e-16  -2.19118273e-03]\n",
      " [ -1.61985621e-16  -3.23072268e-04]\n",
      " [ -3.83854878e-16  -5.59577583e-04]\n",
      " [ -1.28013921e-16  -5.59577583e-04]\n",
      " [  7.13243231e-17  -1.16485363e-03]\n",
      " [ -2.68765828e-16  -1.91132132e-03]\n",
      " [  5.77400684e-17  -4.56893184e-04]\n",
      " [  8.36699719e-17  -4.56893184e-04]\n",
      " [  1.19258625e-16  -9.69216805e-04]\n",
      " [  1.06211859e-16  -7.91362208e-04]\n",
      " [ -2.54380744e-16  -1.58272442e-03]\n",
      " [  1.09650510e-16  -1.02164422e-03]\n",
      " [  7.23959472e-17  -1.40823937e-03]\n",
      " [ -1.70984687e-16  -7.91362208e-04]\n",
      " [  3.42573958e-17  -4.56893184e-04]\n",
      " [  4.93274594e-17  -1.40823937e-03]\n",
      " [  1.09709300e-16  -1.44482311e-03]\n",
      " [  3.93840089e-16  -2.37408662e-03]\n",
      " [ -4.18342237e-17  -3.23072268e-04]\n",
      " [  1.34774646e-16  -9.13786367e-04]\n",
      " [  9.49788654e-17  -5.59577583e-04]\n",
      " [  2.74669001e-16  -1.54940017e-03]\n",
      " [  2.16623778e-16  -9.69216805e-04]\n",
      " [ -7.20677221e-18  -1.11915517e-03]\n",
      " [  1.69347967e-16  -7.91362208e-04]\n",
      " [  7.06915737e-17  -1.61536134e-03]\n",
      " [ -1.11111046e-16  -1.93843361e-03]\n",
      " [  4.61675630e-17  -1.11915517e-03]\n",
      " [ -4.14774681e-17  -2.39596807e-03]\n",
      " [ -4.43990548e-17  -3.23072268e-04]\n",
      " [  3.45205005e-16  -7.91362208e-04]\n",
      " [  3.93173720e-17  -1.02164422e-03]\n",
      " [ -7.44665318e-17  -8.54768878e-04]\n",
      " [  1.41474608e-17  -1.44482311e-03]\n",
      " [  3.27153900e-17  -4.56893184e-04]\n",
      " [ -6.35972141e-17  -2.72225532e-03]\n",
      " [  1.50163880e-16  -1.99155122e-03]\n",
      " [  7.36277123e-17  -1.61536134e-03]\n",
      " [  1.26238265e-16  -1.99155122e-03]\n",
      " [  3.40991380e-17  -1.37067955e-03]\n",
      " [ -7.88853891e-17  -5.59577583e-04]\n",
      " [  1.52609133e-16  -9.13786367e-04]\n",
      " [  1.95055493e-16  -1.73979741e-03]\n",
      " [  1.14223423e-16  -1.25125352e-03]\n",
      " [ -1.62299216e-17  -1.40823937e-03]\n",
      " [ -1.14621377e-16  -2.09374760e-03]\n",
      " [  5.19138564e-17  -8.54768878e-04]\n",
      " [  1.04103086e-16  -1.67873275e-03]\n",
      " [ -9.83581034e-18  -4.56893184e-04]\n",
      " [ -1.40198684e-16  -9.13786367e-04]\n",
      " [  7.90753574e-17  -7.91362208e-04]\n",
      " [  5.59462588e-17  -1.64735180e-03]\n",
      " [ -4.46680026e-16  -7.22411554e-04]\n",
      " [ -1.27214156e-16  -1.07150949e-03]\n",
      " [  1.02249227e-16  -1.85590889e-03]\n",
      " [ -9.49974705e-17  -1.33206109e-03]\n",
      " [ -2.92265072e-16  -9.13786367e-04]\n",
      " [ -1.55094877e-16  -1.25125352e-03]\n",
      " [ -1.18341237e-16  -1.64735180e-03]\n",
      " [ -1.21747970e-16  -7.91362208e-04]]\n"
     ]
    }
   ],
   "source": [
    "Lbar=getNormLaplacian(m)\n",
    "k=2\n",
    "kEigVal,kEigVec=getKSmallestEigVec(Lbar,k)\n",
    "print(\"k eig val are %s\" % kEigVal)\n",
    "print(\"k eig vec are %s\" % kEigVec)"
   ]
  },
  {
   "cell_type": "code",
   "execution_count": 15,
   "metadata": {},
   "outputs": [
    {
     "name": "stdout",
     "output_type": "stream",
     "text": [
      "Lbar*v-lamda*v are [ 20.84433809  12.42698745]*2.22044604925e-16\n"
     ]
    }
   ],
   "source": [
    "checkResult(Lbar,kEigVec,kEigVal,k)"
   ]
  },
  {
   "cell_type": "code",
   "execution_count": 16,
   "metadata": {},
   "outputs": [],
   "source": [
    "clusterA=[i for i in range(0,nodeNum) if kEigVec[i,1]>0]\n",
    "clusterB=[i for i in range(0,nodeNum) if kEigVec[i,1]<0]"
   ]
  },
  {
   "cell_type": "code",
   "execution_count": 17,
   "metadata": {},
   "outputs": [],
   "source": [
    "colList=dict.fromkeys(g.nodes())"
   ]
  },
  {
   "cell_type": "code",
   "execution_count": 22,
   "metadata": {},
   "outputs": [
    {
     "data": {
      "text/plain": [
       "dict_keys([1, 2, 3, 4, 5, 6, 7, 8, 9, 10, 13, 14, 16, 17, 19, 20, 21, 22, 23, 24, 25, 26, 27, 28, 29, 30, 31, 32, 33, 34, 35, 36, 38, 39, 40, 41, 42, 44, 45, 46, 47, 48, 49, 50, 51, 52, 53, 54, 55, 56, 57, 58, 59, 60, 61, 62, 63, 64, 65, 66, 67, 68, 69, 70, 71, 72, 73, 75, 76, 77, 78, 79, 80, 81, 82, 83, 84, 85, 86, 87, 88, 89, 90, 91, 92, 93, 94, 95, 96, 97, 98, 99, 100, 101, 102, 103, 104, 105, 106, 107, 108, 109, 110, 111, 112, 113, 115, 116, 117, 118, 119, 120, 121, 122, 123, 124, 125, 126, 127, 128, 129, 130, 131, 132, 133, 134, 135, 136, 137, 138, 139, 140, 141, 142, 143, 144, 145, 146, 147, 148, 149, 150, 151, 152, 153, 154, 155, 156, 157, 158, 159, 160, 161, 162, 163, 164, 165, 166, 167, 168, 169, 170, 171, 172, 173, 174, 175, 176, 177, 178, 179, 180, 181, 182, 183, 184, 185, 186, 187, 188, 189, 190, 191, 192, 193, 194, 195, 196, 197, 198, 199, 200, 201, 202, 203, 204, 205, 206, 207, 208, 211, 212, 213, 214, 216, 217, 218, 219, 220, 221, 222, 223, 224, 225, 226, 227, 228, 229, 230, 231, 232, 233, 234, 235, 236, 237, 238, 239, 240, 241, 242, 243, 244, 245, 246, 247, 248, 249, 250, 251, 252, 253, 254, 255, 256, 257, 258, 259, 260, 261, 262, 263, 264, 265, 266, 267, 268, 269, 270, 271, 272, 273, 274, 275, 276, 277, 278, 279, 280, 281, 282, 283, 284, 285, 286, 288, 289, 290, 291, 293, 294, 295, 296, 297, 298, 299, 300, 301, 302, 303, 304, 305, 306, 307, 308, 309, 310, 311, 312, 313, 314, 315, 316, 317, 318, 319, 320, 321, 322, 323, 324, 325, 326, 327, 328, 329, 330, 331, 332, 333, 334, 336, 337, 338, 339, 340, 341, 342, 343, 344, 345, 346, 347])"
      ]
     },
     "execution_count": 22,
     "metadata": {},
     "output_type": "execute_result"
    }
   ],
   "source": [
    "colList.keys()"
   ]
  },
  {
   "cell_type": "code",
   "execution_count": 26,
   "metadata": {},
   "outputs": [],
   "source": [
    "colList_values = list(colList.values())"
   ]
  },
  {
   "cell_type": "code",
   "execution_count": 27,
   "metadata": {},
   "outputs": [
    {
     "data": {
      "image/png": "[encoded data removed]",
      "text/plain": [
       "<Figure size 576x576 with 1 Axes>"
      ]
     },
     "metadata": {},
     "output_type": "display_data"
    }
   ],
   "source": [
    "for node,score in colList.items():\n",
    "    if node in clusterA:\n",
    "        colList[node]=0\n",
    "    else:\n",
    "        colList[node]=0.6\n",
    "plt.figure(figsize=(8,8))\n",
    "pos=nx.spring_layout(g)\n",
    "nx.draw_networkx_edges(g,pos,alpha=0.4)\n",
    "nx.draw_networkx_nodes(g,pos,nodelist=colList.keys(),\n",
    "        node_color=colList_values,\n",
    "        cmap=plt.cm.Reds_r)\n",
    "nx.draw_networkx_labels(g,pos,font_size=10,font_family='sans-serif')\n",
    "plt.axis('off')\n",
    "plt.title(\"karate_club spectral clustering\")\n",
    "plt.savefig(\"spectral_clustering_result.png\")"
   ]
  },
  {
   "cell_type": "code",
   "execution_count": 28,
   "metadata": {},
   "outputs": [],
   "source": [
    "plt.show()"
   ]
  },
  {
   "cell_type": "code",
   "execution_count": null,
   "metadata": {},
   "outputs": [],
   "source": []
  }
 ],
 "metadata": {
  "kernelspec": {
   "display_name": "Python [conda env:pytorch]",
   "language": "python",
   "name": "conda-env-pytorch-py"
  },
  "language_info": {
   "codemirror_mode": {
    "name": "ipython",
    "version": 3
   },
   "file_extension": ".py",
   "mimetype": "text/x-python",
   "name": "python",
   "nbconvert_exporter": "python",
   "pygments_lexer": "ipython3",
   "version": "3.5.6"
  }
 },
 "nbformat": 4,
 "nbformat_minor": 2
}
